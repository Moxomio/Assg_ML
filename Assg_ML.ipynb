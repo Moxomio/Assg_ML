{
  "nbformat": 4,
  "nbformat_minor": 0,
  "metadata": {
    "colab": {
      "provenance": []
    },
    "kernelspec": {
      "name": "python3",
      "display_name": "Python 3"
    },
    "language_info": {
      "name": "python"
    }
  },
  "cells": [
    {
      "cell_type": "code",
      "source": [
        "import pandas as pd\n",
        "import numpy as np\n",
        "\n",
        "df=pd.read('C:\\Users\\edham\\OneDrive\\Documents\\GitHub\\Assg_ML\\heart_disease_uci.csv')"
      ],
      "metadata": {
        "id": "qZbStQq1eHD5"
      },
      "execution_count": null,
      "outputs": []
    }
  ]
}